{
 "cells": [
  {
   "cell_type": "markdown",
   "id": "eb7cadb2",
   "metadata": {},
   "source": [
    "### Setup"
   ]
  },
  {
   "cell_type": "code",
   "execution_count": 1,
   "id": "fc35e54f",
   "metadata": {},
   "outputs": [
    {
     "name": "stdout",
     "output_type": "stream",
     "text": [
      "Note: you may need to restart the kernel to use updated packages.\n"
     ]
    }
   ],
   "source": [
    "%pip install --quiet -r requirements.txt"
   ]
  },
  {
   "cell_type": "code",
   "execution_count": 2,
   "id": "28bf6580",
   "metadata": {},
   "outputs": [
    {
     "name": "stdout",
     "output_type": "stream",
     "text": [
      "gcc (Ubuntu 13.3.0-6ubuntu2~24.04) 13.3.0\n",
      "Copyright (C) 2023 Free Software Foundation, Inc.\n",
      "This is free software; see the source for copying conditions.  There is NO\n",
      "warranty; not even for MERCHANTABILITY or FITNESS FOR A PARTICULAR PURPOSE.\n",
      "\n"
     ]
    }
   ],
   "source": [
    "!gcc --version"
   ]
  },
  {
   "cell_type": "markdown",
   "id": "0669797c",
   "metadata": {},
   "source": [
    "### Importação"
   ]
  },
  {
   "cell_type": "code",
   "execution_count": 3,
   "id": "6083d3eb",
   "metadata": {},
   "outputs": [],
   "source": [
    "import numpy as np\n",
    "import matplotlib.pyplot as plt\n",
    "import matplotlib.ticker as ticker\n",
    "import pandas as pd\n",
    "import os\n",
    "import shutil\n",
    "import string\n",
    "import random"
   ]
  },
  {
   "cell_type": "markdown",
   "id": "40f9b30c",
   "metadata": {},
   "source": [
    "## Criação dos valores a serem calculados os anagramas"
   ]
  },
  {
   "cell_type": "code",
   "execution_count": 111,
   "id": "5a34adec",
   "metadata": {},
   "outputs": [],
   "source": [
    "def gerar_palavra(tamanho):\n",
    "    return ''.join(random.choices(string.ascii_lowercase, k=tamanho))\n",
    "\n",
    "qtd_values = [20,40]\n",
    "\n",
    "dados = {\n",
    "    'palavras': [[gerar_palavra(i) for i in range(1, qtd + 1)] for qtd in qtd_values]\n",
    "}"
   ]
  },
  {
   "cell_type": "markdown",
   "id": "61bd764a",
   "metadata": {},
   "source": [
    "### Exibindo Amostragem"
   ]
  },
  {
   "cell_type": "code",
   "execution_count": 112,
   "id": "726c484b",
   "metadata": {},
   "outputs": [
    {
     "name": "stdout",
     "output_type": "stream",
     "text": [
      "Palavras geradas: [['n', 'vk', 'epc', 'vhah', 'fggau', 'setyew', 'adccahe', 'lszslmhu', 'wbxggzabr', 'wcyfdsrgib', 'ogjufrcdlam', 'dnogxuimmevf', 'pmumnskqgemwm', 'brwnlmldmbsfce', 'ilpfkxdqyovpyvf', 'bkyrycemndrpgqpu', 'abgfnnssuglmelloh', 'bekmoncldrhechqthm', 'kqphzhuickblvlhbiyo', 'qawthzzkfrpwikrudboo'], ['r', 'nr', 'raf', 'uiuf', 'ktaib', 'jcnpxb', 'sjrkefr', 'zoibxojn', 'cohafjfxa', 'eeuvbtzgft', 'tmgzrpthlpe', 'himfzxsbcunq', 'xxltrtvgojskp', 'pbuoigvfgmpyda', 'ewejvnbrjktltxu', 'vgdohettbabvaqfu', 'wmhinlmznmdswriqr', 'gtklfulhqiaiyilice', 'kcwcvmzqnpggbgwtcjk', 'jrorbhepkwhvupfjbcmm', 'wxppraloapdnajljhgdqt', 'kkgdmdvzjieeswpkjbwwui', 'orfzchcettmogboexmzlgnc', 'vozcsyfebeqkdqigzkkrbzrt', 'vjcokkonzawzlojpgicjtgetj', 'prawdfijxaafxnmjzitimnfupe', 'qgkozsmbwklxbraqzebuoddnphb', 'qqamaoosvhdzkmvrxiarnoqdwgae', 'elcgohodcydbdgbkarianfjsdjlsu', 'xwglimfcotcqtiyxmcbybmtbugfmvz', 'gzxnjlrfbialmozclsoivqculfbikhu', 'njccwnqxruodgxntjtnzxrahbznjvmag', 'zwadbvjmpdtfteiypxytqzprliaiuubfn', 'fyeivzpmeecgwmngckzlpgitufpaztyaqh', 'ctbsefdzyhcijgurmnlqkgntwobdjmjjpos', 'ozghgsgevalxlfjdajoibcfpemmqhvubekfv', 'uqgcinrwmgfnitxmflipruwfqgxgmswfilxiv', 'qbwbyjdvfbfvuodrbzwovpcjhbdrnoyicsnced', 'pqokhzkufpiruwapdfclfsiswebczaqmoqlewqw', 'tlgmbdovpqzyuzolhnalwrmbzaftmximzmnzcmpy']]\n",
      "Quantidades de palavras geradas: 2\n",
      "dict_values([[['n', 'vk', 'epc', 'vhah', 'fggau', 'setyew', 'adccahe', 'lszslmhu', 'wbxggzabr', 'wcyfdsrgib', 'ogjufrcdlam', 'dnogxuimmevf', 'pmumnskqgemwm', 'brwnlmldmbsfce', 'ilpfkxdqyovpyvf', 'bkyrycemndrpgqpu', 'abgfnnssuglmelloh', 'bekmoncldrhechqthm', 'kqphzhuickblvlhbiyo', 'qawthzzkfrpwikrudboo'], ['r', 'nr', 'raf', 'uiuf', 'ktaib', 'jcnpxb', 'sjrkefr', 'zoibxojn', 'cohafjfxa', 'eeuvbtzgft', 'tmgzrpthlpe', 'himfzxsbcunq', 'xxltrtvgojskp', 'pbuoigvfgmpyda', 'ewejvnbrjktltxu', 'vgdohettbabvaqfu', 'wmhinlmznmdswriqr', 'gtklfulhqiaiyilice', 'kcwcvmzqnpggbgwtcjk', 'jrorbhepkwhvupfjbcmm', 'wxppraloapdnajljhgdqt', 'kkgdmdvzjieeswpkjbwwui', 'orfzchcettmogboexmzlgnc', 'vozcsyfebeqkdqigzkkrbzrt', 'vjcokkonzawzlojpgicjtgetj', 'prawdfijxaafxnmjzitimnfupe', 'qgkozsmbwklxbraqzebuoddnphb', 'qqamaoosvhdzkmvrxiarnoqdwgae', 'elcgohodcydbdgbkarianfjsdjlsu', 'xwglimfcotcqtiyxmcbybmtbugfmvz', 'gzxnjlrfbialmozclsoivqculfbikhu', 'njccwnqxruodgxntjtnzxrahbznjvmag', 'zwadbvjmpdtfteiypxytqzprliaiuubfn', 'fyeivzpmeecgwmngckzlpgitufpaztyaqh', 'ctbsefdzyhcijgurmnlqkgntwobdjmjjpos', 'ozghgsgevalxlfjdajoibcfpemmqhvubekfv', 'uqgcinrwmgfnitxmflipruwfqgxgmswfilxiv', 'qbwbyjdvfbfvuodrbzwovpcjhbdrnoyicsnced', 'pqokhzkufpiruwapdfclfsiswebczaqmoqlewqw', 'tlgmbdovpqzyuzolhnalwrmbzaftmximzmnzcmpy']]])\n"
     ]
    }
   ],
   "source": [
    "print(f\"Palavras geradas: {dados['palavras']}\")\n",
    "print(f\"Quantidades de palavras geradas: {len(dados['palavras'])}\")\n",
    "print(dados.values())"
   ]
  },
  {
   "cell_type": "markdown",
   "id": "f36a3889",
   "metadata": {},
   "source": [
    "### Salvando amostragem em txt"
   ]
  },
  {
   "cell_type": "code",
   "execution_count": 115,
   "id": "35e07457",
   "metadata": {},
   "outputs": [
    {
     "name": "stdout",
     "output_type": "stream",
     "text": [
      "Arquivos salvos em /home/jonascgn/Trabalhos/Trabalho-2---PAA/files\n"
     ]
    }
   ],
   "source": [
    "paths = []\n",
    "\n",
    "# Caminho base\n",
    "base_path = 'files/palavras'\n",
    "shutil.rmtree('files', ignore_errors=True)\n",
    "\n",
    "os.makedirs(base_path, exist_ok=True)\n",
    "\n",
    "for title, values in dados.items():\n",
    "    for i, value in enumerate(values):\n",
    "        path = f'files/{title}/{len(value)}_palavras.csv'\n",
    "        paths.append(path)\n",
    "        \n",
    "        os.makedirs(os.path.dirname(path), exist_ok=True)\n",
    "        \n",
    "        # Converte as palavras em um DataFrame (uma coluna com cada palavra em uma linha)\n",
    "        df = pd.DataFrame(value, columns=[\"Palavra\"])\n",
    "        # Salva o DataFrame no arquivo CSV\n",
    "        df.to_csv(path, index=False, header=False)\n",
    "# Exibe os arquivos gerados\n",
    "        \n",
    "print(f'Arquivos salvos em {os.path.abspath(\"files\")}')"
   ]
  },
  {
   "cell_type": "markdown",
   "id": "571756ff",
   "metadata": {},
   "source": [
    "## Recursivo"
   ]
  },
  {
   "cell_type": "code",
   "execution_count": 116,
   "id": "7cf80388",
   "metadata": {},
   "outputs": [],
   "source": [
    "%%capture anagrama_results_recursive\n",
    "args = f\"\"\n",
    "results = {}\n",
    "\n",
    "for path in paths:\n",
    "    tamanho = path.split('/')[-1].split('.')[0]\n",
    "    \n",
    "    # Uso: ./calcular_anagrama_dinamico <arquivo.txt> <qtd_palavras> <qtd_testes> <mostrar_resultado>\n",
    "    args_copy = f\"FILE_PATH={path} QTD_WORD={len(dados['palavras'])} QTD_TEST=20 SHOW_RESULT=0\"\n",
    "    \n",
    "    !make -B anagrama_recursivo {args_copy}"
   ]
  },
  {
   "cell_type": "code",
   "execution_count": 117,
   "id": "7e2d8a98",
   "metadata": {},
   "outputs": [
    {
     "name": "stdout",
     "output_type": "stream",
     "text": [
      "Tempo:0.000001s Memoria:0KB\n",
      "Tempo:0.000001s Memoria:0KB\n",
      "\n"
     ]
    }
   ],
   "source": [
    "print(anagrama_results_recursive.stdout)"
   ]
  },
  {
   "cell_type": "markdown",
   "id": "fa2e7b6e",
   "metadata": {},
   "source": [
    "## Dinamico"
   ]
  },
  {
   "cell_type": "code",
   "execution_count": 118,
   "id": "a9c02a41",
   "metadata": {},
   "outputs": [],
   "source": [
    "%%capture anagrama_results_dynamic\n",
    "results = {}\n",
    "\n",
    "for path in paths:\n",
    "    tamanho = path.split('/')[-1].split('.')[0]\n",
    "    \n",
    "    args_copy = f\"FILE_PATH={path} QTD_WORD={len(dados['palavras'])} QTD_TEST=20 SHOW_RESULT=0\"\n",
    "    \n",
    "    !make -B anagrama_dinamico {args_copy}\n",
    "    "
   ]
  },
  {
   "cell_type": "code",
   "execution_count": 119,
   "id": "6eb5a380",
   "metadata": {},
   "outputs": [
    {
     "name": "stdout",
     "output_type": "stream",
     "text": [
      "Tempo:0.000001s Memoria:0KB\n",
      "Tempo:0.000001s Memoria:0KB\n",
      "\n"
     ]
    }
   ],
   "source": [
    "print(anagrama_results_dynamic.stdout)"
   ]
  }
 ],
 "metadata": {
  "kernelspec": {
   "display_name": ".venv",
   "language": "python",
   "name": "python3"
  },
  "language_info": {
   "codemirror_mode": {
    "name": "ipython",
    "version": 3
   },
   "file_extension": ".py",
   "mimetype": "text/x-python",
   "name": "python",
   "nbconvert_exporter": "python",
   "pygments_lexer": "ipython3",
   "version": "3.12.3"
  }
 },
 "nbformat": 4,
 "nbformat_minor": 5
}
